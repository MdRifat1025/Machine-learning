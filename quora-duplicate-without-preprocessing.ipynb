{
 "cells": [
  {
   "cell_type": "code",
   "execution_count": 1,
   "id": "6b187f21",
   "metadata": {
    "_cell_guid": "b1076dfc-b9ad-4769-8c92-a6c4dae69d19",
    "_uuid": "8f2839f25d086af736a60e9eeb907d3b93b6e0e5",
    "execution": {
     "iopub.execute_input": "2025-08-28T09:22:07.727812Z",
     "iopub.status.busy": "2025-08-28T09:22:07.727145Z",
     "iopub.status.idle": "2025-08-28T09:22:09.208842Z",
     "shell.execute_reply": "2025-08-28T09:22:09.207979Z"
    },
    "papermill": {
     "duration": 1.488639,
     "end_time": "2025-08-28T09:22:09.210780",
     "exception": false,
     "start_time": "2025-08-28T09:22:07.722141",
     "status": "completed"
    },
    "tags": []
   },
   "outputs": [
    {
     "name": "stdout",
     "output_type": "stream",
     "text": [
      "/kaggle/input/quora-duplicate-questions-detection/quora_duplicate_questions.csv\n"
     ]
    }
   ],
   "source": [
    "# This Python 3 environment comes with many helpful analytics libraries installed\n",
    "# It is defined by the kaggle/python Docker image: https://github.com/kaggle/docker-python\n",
    "# For example, here's several helpful packages to load\n",
    "\n",
    "import numpy as np # linear algebra\n",
    "import pandas as pd # data processing, CSV file I/O (e.g. pd.read_csv)\n",
    "\n",
    "# Input data files are available in the read-only \"../input/\" directory\n",
    "# For example, running this (by clicking run or pressing Shift+Enter) will list all files under the input directory\n",
    "\n",
    "import os\n",
    "for dirname, _, filenames in os.walk('/kaggle/input'):\n",
    "    for filename in filenames:\n",
    "        print(os.path.join(dirname, filename))\n",
    "\n",
    "# You can write up to 20GB to the current directory (/kaggle/working/) that gets preserved as output when you create a version using \"Save & Run All\" \n",
    "# You can also write temporary files to /kaggle/temp/, but they won't be saved outside of the current session"
   ]
  },
  {
   "cell_type": "code",
   "execution_count": 2,
   "id": "1f3e9d47",
   "metadata": {
    "execution": {
     "iopub.execute_input": "2025-08-28T09:22:09.223684Z",
     "iopub.status.busy": "2025-08-28T09:22:09.223226Z",
     "iopub.status.idle": "2025-08-28T09:22:10.949417Z",
     "shell.execute_reply": "2025-08-28T09:22:10.948812Z"
    },
    "papermill": {
     "duration": 1.732748,
     "end_time": "2025-08-28T09:22:10.950851",
     "exception": false,
     "start_time": "2025-08-28T09:22:09.218103",
     "status": "completed"
    },
    "tags": []
   },
   "outputs": [],
   "source": [
    "import pandas as pd\n",
    "import numpy as np\n",
    "import matplotlib.pyplot as plt\n",
    "import seaborn as sns\n",
    "from sklearn.model_selection import train_test_split"
   ]
  },
  {
   "cell_type": "code",
   "execution_count": 3,
   "id": "5787a3e9",
   "metadata": {
    "execution": {
     "iopub.execute_input": "2025-08-28T09:22:10.958456Z",
     "iopub.status.busy": "2025-08-28T09:22:10.958139Z",
     "iopub.status.idle": "2025-08-28T09:22:12.589014Z",
     "shell.execute_reply": "2025-08-28T09:22:12.588190Z"
    },
    "papermill": {
     "duration": 1.635814,
     "end_time": "2025-08-28T09:22:12.590258",
     "exception": false,
     "start_time": "2025-08-28T09:22:10.954444",
     "status": "completed"
    },
    "tags": []
   },
   "outputs": [
    {
     "data": {
      "text/html": [
       "<div>\n",
       "<style scoped>\n",
       "    .dataframe tbody tr th:only-of-type {\n",
       "        vertical-align: middle;\n",
       "    }\n",
       "\n",
       "    .dataframe tbody tr th {\n",
       "        vertical-align: top;\n",
       "    }\n",
       "\n",
       "    .dataframe thead th {\n",
       "        text-align: right;\n",
       "    }\n",
       "</style>\n",
       "<table border=\"1\" class=\"dataframe\">\n",
       "  <thead>\n",
       "    <tr style=\"text-align: right;\">\n",
       "      <th></th>\n",
       "      <th>index</th>\n",
       "      <th>id</th>\n",
       "      <th>qid1</th>\n",
       "      <th>qid2</th>\n",
       "      <th>question1</th>\n",
       "      <th>question2</th>\n",
       "      <th>is_duplicate</th>\n",
       "    </tr>\n",
       "  </thead>\n",
       "  <tbody>\n",
       "    <tr>\n",
       "      <th>0</th>\n",
       "      <td>0</td>\n",
       "      <td>0</td>\n",
       "      <td>1</td>\n",
       "      <td>2</td>\n",
       "      <td>What is the step by step guide to invest in sh...</td>\n",
       "      <td>What is the step by step guide to invest in sh...</td>\n",
       "      <td>0</td>\n",
       "    </tr>\n",
       "    <tr>\n",
       "      <th>1</th>\n",
       "      <td>1</td>\n",
       "      <td>1</td>\n",
       "      <td>3</td>\n",
       "      <td>4</td>\n",
       "      <td>What is the story of Kohinoor (Koh-i-Noor) Dia...</td>\n",
       "      <td>What would happen if the Indian government sto...</td>\n",
       "      <td>0</td>\n",
       "    </tr>\n",
       "    <tr>\n",
       "      <th>2</th>\n",
       "      <td>2</td>\n",
       "      <td>2</td>\n",
       "      <td>5</td>\n",
       "      <td>6</td>\n",
       "      <td>How can I increase the speed of my internet co...</td>\n",
       "      <td>How can Internet speed be increased by hacking...</td>\n",
       "      <td>0</td>\n",
       "    </tr>\n",
       "    <tr>\n",
       "      <th>3</th>\n",
       "      <td>3</td>\n",
       "      <td>6</td>\n",
       "      <td>13</td>\n",
       "      <td>14</td>\n",
       "      <td>Should I buy tiago?</td>\n",
       "      <td>What keeps childern active and far from phone ...</td>\n",
       "      <td>0</td>\n",
       "    </tr>\n",
       "    <tr>\n",
       "      <th>4</th>\n",
       "      <td>4</td>\n",
       "      <td>7</td>\n",
       "      <td>15</td>\n",
       "      <td>16</td>\n",
       "      <td>How can I be a good geologist?</td>\n",
       "      <td>What should I do to be a great geologist?</td>\n",
       "      <td>1</td>\n",
       "    </tr>\n",
       "  </tbody>\n",
       "</table>\n",
       "</div>"
      ],
      "text/plain": [
       "   index  id  qid1  qid2                                          question1  \\\n",
       "0      0   0     1     2  What is the step by step guide to invest in sh...   \n",
       "1      1   1     3     4  What is the story of Kohinoor (Koh-i-Noor) Dia...   \n",
       "2      2   2     5     6  How can I increase the speed of my internet co...   \n",
       "3      3   6    13    14                                Should I buy tiago?   \n",
       "4      4   7    15    16                     How can I be a good geologist?   \n",
       "\n",
       "                                           question2  is_duplicate  \n",
       "0  What is the step by step guide to invest in sh...             0  \n",
       "1  What would happen if the Indian government sto...             0  \n",
       "2  How can Internet speed be increased by hacking...             0  \n",
       "3  What keeps childern active and far from phone ...             0  \n",
       "4          What should I do to be a great geologist?             1  "
      ]
     },
     "execution_count": 3,
     "metadata": {},
     "output_type": "execute_result"
    }
   ],
   "source": [
    "data=pd.read_csv(\"/kaggle/input/quora-duplicate-questions-detection/quora_duplicate_questions.csv\")\n",
    "data.head(5)"
   ]
  },
  {
   "cell_type": "code",
   "execution_count": 4,
   "id": "457b4dd6",
   "metadata": {
    "execution": {
     "iopub.execute_input": "2025-08-28T09:22:12.598288Z",
     "iopub.status.busy": "2025-08-28T09:22:12.598076Z",
     "iopub.status.idle": "2025-08-28T09:22:12.664423Z",
     "shell.execute_reply": "2025-08-28T09:22:12.663503Z"
    },
    "papermill": {
     "duration": 0.07164,
     "end_time": "2025-08-28T09:22:12.665566",
     "exception": false,
     "start_time": "2025-08-28T09:22:12.593926",
     "status": "completed"
    },
    "tags": []
   },
   "outputs": [
    {
     "name": "stdout",
     "output_type": "stream",
     "text": [
      "<class 'pandas.core.frame.DataFrame'>\n",
      "RangeIndex: 345036 entries, 0 to 345035\n",
      "Data columns (total 7 columns):\n",
      " #   Column        Non-Null Count   Dtype \n",
      "---  ------        --------------   ----- \n",
      " 0   index         345036 non-null  int64 \n",
      " 1   id            345036 non-null  int64 \n",
      " 2   qid1          345036 non-null  int64 \n",
      " 3   qid2          345036 non-null  int64 \n",
      " 4   question1     345035 non-null  object\n",
      " 5   question2     345034 non-null  object\n",
      " 6   is_duplicate  345036 non-null  int64 \n",
      "dtypes: int64(5), object(2)\n",
      "memory usage: 18.4+ MB\n"
     ]
    }
   ],
   "source": [
    "data.info()"
   ]
  },
  {
   "cell_type": "code",
   "execution_count": 5,
   "id": "867133cc",
   "metadata": {
    "execution": {
     "iopub.execute_input": "2025-08-28T09:22:12.673002Z",
     "iopub.status.busy": "2025-08-28T09:22:12.672774Z",
     "iopub.status.idle": "2025-08-28T09:22:12.732156Z",
     "shell.execute_reply": "2025-08-28T09:22:12.731411Z"
    },
    "papermill": {
     "duration": 0.064384,
     "end_time": "2025-08-28T09:22:12.733274",
     "exception": false,
     "start_time": "2025-08-28T09:22:12.668890",
     "status": "completed"
    },
    "tags": []
   },
   "outputs": [
    {
     "data": {
      "text/html": [
       "<div>\n",
       "<style scoped>\n",
       "    .dataframe tbody tr th:only-of-type {\n",
       "        vertical-align: middle;\n",
       "    }\n",
       "\n",
       "    .dataframe tbody tr th {\n",
       "        vertical-align: top;\n",
       "    }\n",
       "\n",
       "    .dataframe thead th {\n",
       "        text-align: right;\n",
       "    }\n",
       "</style>\n",
       "<table border=\"1\" class=\"dataframe\">\n",
       "  <thead>\n",
       "    <tr style=\"text-align: right;\">\n",
       "      <th></th>\n",
       "      <th>index</th>\n",
       "      <th>id</th>\n",
       "      <th>qid1</th>\n",
       "      <th>qid2</th>\n",
       "      <th>question1</th>\n",
       "      <th>question2</th>\n",
       "    </tr>\n",
       "    <tr>\n",
       "      <th>is_duplicate</th>\n",
       "      <th></th>\n",
       "      <th></th>\n",
       "      <th></th>\n",
       "      <th></th>\n",
       "      <th></th>\n",
       "      <th></th>\n",
       "    </tr>\n",
       "  </thead>\n",
       "  <tbody>\n",
       "    <tr>\n",
       "      <th>0</th>\n",
       "      <td>208756</td>\n",
       "      <td>208756</td>\n",
       "      <td>208756</td>\n",
       "      <td>208756</td>\n",
       "      <td>208755</td>\n",
       "      <td>208754</td>\n",
       "    </tr>\n",
       "    <tr>\n",
       "      <th>1</th>\n",
       "      <td>136280</td>\n",
       "      <td>136280</td>\n",
       "      <td>136280</td>\n",
       "      <td>136280</td>\n",
       "      <td>136280</td>\n",
       "      <td>136280</td>\n",
       "    </tr>\n",
       "  </tbody>\n",
       "</table>\n",
       "</div>"
      ],
      "text/plain": [
       "               index      id    qid1    qid2  question1  question2\n",
       "is_duplicate                                                      \n",
       "0             208756  208756  208756  208756     208755     208754\n",
       "1             136280  136280  136280  136280     136280     136280"
      ]
     },
     "execution_count": 5,
     "metadata": {},
     "output_type": "execute_result"
    }
   ],
   "source": [
    "data.groupby(\"is_duplicate\").count()"
   ]
  },
  {
   "cell_type": "code",
   "execution_count": 6,
   "id": "914e6b1a",
   "metadata": {
    "execution": {
     "iopub.execute_input": "2025-08-28T09:22:12.740765Z",
     "iopub.status.busy": "2025-08-28T09:22:12.740523Z",
     "iopub.status.idle": "2025-08-28T09:22:12.750350Z",
     "shell.execute_reply": "2025-08-28T09:22:12.749718Z"
    },
    "papermill": {
     "duration": 0.014586,
     "end_time": "2025-08-28T09:22:12.751343",
     "exception": false,
     "start_time": "2025-08-28T09:22:12.736757",
     "status": "completed"
    },
    "tags": []
   },
   "outputs": [
    {
     "data": {
      "text/plain": [
       "is_duplicate\n",
       "0    60.502672\n",
       "1    39.497328\n",
       "Name: count, dtype: float64"
      ]
     },
     "execution_count": 6,
     "metadata": {},
     "output_type": "execute_result"
    }
   ],
   "source": [
    "(data['is_duplicate'].value_counts()/data['is_duplicate'].count())*100"
   ]
  },
  {
   "cell_type": "code",
   "execution_count": 7,
   "id": "03d92b8f",
   "metadata": {
    "execution": {
     "iopub.execute_input": "2025-08-28T09:22:12.758946Z",
     "iopub.status.busy": "2025-08-28T09:22:12.758727Z",
     "iopub.status.idle": "2025-08-28T09:22:13.019341Z",
     "shell.execute_reply": "2025-08-28T09:22:13.018701Z"
    },
    "papermill": {
     "duration": 0.265777,
     "end_time": "2025-08-28T09:22:13.020505",
     "exception": false,
     "start_time": "2025-08-28T09:22:12.754728",
     "status": "completed"
    },
    "tags": []
   },
   "outputs": [
    {
     "data": {
      "text/plain": [
       "<Axes: xlabel='is_duplicate'>"
      ]
     },
     "execution_count": 7,
     "metadata": {},
     "output_type": "execute_result"
    },
    {
     "data": {
      "image/png": "[encoded data removed]",
      "text/plain": [
       "<Figure size 640x480 with 1 Axes>"
      ]
     },
     "metadata": {},
     "output_type": "display_data"
    }
   ],
   "source": [
    "data[\"is_duplicate\"].value_counts().plot(kind=\"bar\")"
   ]
  },
  {
   "cell_type": "code",
   "execution_count": 8,
   "id": "8c92763a",
   "metadata": {
    "execution": {
     "iopub.execute_input": "2025-08-28T09:22:13.028956Z",
     "iopub.status.busy": "2025-08-28T09:22:13.028709Z",
     "iopub.status.idle": "2025-08-28T09:22:13.102573Z",
     "shell.execute_reply": "2025-08-28T09:22:13.101938Z"
    },
    "papermill": {
     "duration": 0.079585,
     "end_time": "2025-08-28T09:22:13.104061",
     "exception": false,
     "start_time": "2025-08-28T09:22:13.024476",
     "status": "completed"
    },
    "tags": []
   },
   "outputs": [],
   "source": [
    "data.dropna(inplace=True)"
   ]
  },
  {
   "cell_type": "code",
   "execution_count": 9,
   "id": "46613e0b",
   "metadata": {
    "execution": {
     "iopub.execute_input": "2025-08-28T09:22:13.113437Z",
     "iopub.status.busy": "2025-08-28T09:22:13.113188Z",
     "iopub.status.idle": "2025-08-28T09:22:13.135320Z",
     "shell.execute_reply": "2025-08-28T09:22:13.134624Z"
    },
    "papermill": {
     "duration": 0.027578,
     "end_time": "2025-08-28T09:22:13.136415",
     "exception": false,
     "start_time": "2025-08-28T09:22:13.108837",
     "status": "completed"
    },
    "tags": []
   },
   "outputs": [
    {
     "data": {
      "text/html": [
       "<div>\n",
       "<style scoped>\n",
       "    .dataframe tbody tr th:only-of-type {\n",
       "        vertical-align: middle;\n",
       "    }\n",
       "\n",
       "    .dataframe tbody tr th {\n",
       "        vertical-align: top;\n",
       "    }\n",
       "\n",
       "    .dataframe thead th {\n",
       "        text-align: right;\n",
       "    }\n",
       "</style>\n",
       "<table border=\"1\" class=\"dataframe\">\n",
       "  <thead>\n",
       "    <tr style=\"text-align: right;\">\n",
       "      <th></th>\n",
       "      <th>question1</th>\n",
       "      <th>question2</th>\n",
       "    </tr>\n",
       "  </thead>\n",
       "  <tbody>\n",
       "    <tr>\n",
       "      <th>0</th>\n",
       "      <td>What is the step by step guide to invest in sh...</td>\n",
       "      <td>What is the step by step guide to invest in sh...</td>\n",
       "    </tr>\n",
       "    <tr>\n",
       "      <th>1</th>\n",
       "      <td>What is the story of Kohinoor (Koh-i-Noor) Dia...</td>\n",
       "      <td>What would happen if the Indian government sto...</td>\n",
       "    </tr>\n",
       "    <tr>\n",
       "      <th>2</th>\n",
       "      <td>How can I increase the speed of my internet co...</td>\n",
       "      <td>How can Internet speed be increased by hacking...</td>\n",
       "    </tr>\n",
       "    <tr>\n",
       "      <th>3</th>\n",
       "      <td>Should I buy tiago?</td>\n",
       "      <td>What keeps childern active and far from phone ...</td>\n",
       "    </tr>\n",
       "    <tr>\n",
       "      <th>4</th>\n",
       "      <td>How can I be a good geologist?</td>\n",
       "      <td>What should I do to be a great geologist?</td>\n",
       "    </tr>\n",
       "    <tr>\n",
       "      <th>...</th>\n",
       "      <td>...</td>\n",
       "      <td>...</td>\n",
       "    </tr>\n",
       "    <tr>\n",
       "      <th>345031</th>\n",
       "      <td>What does Jainism say about homosexuality?</td>\n",
       "      <td>What does Jainism say about Gays and Homosexua...</td>\n",
       "    </tr>\n",
       "    <tr>\n",
       "      <th>345032</th>\n",
       "      <td>How many keywords are there in the Racket prog...</td>\n",
       "      <td>How many keywords are there in PERL Programmin...</td>\n",
       "    </tr>\n",
       "    <tr>\n",
       "      <th>345033</th>\n",
       "      <td>Do you believe there is life after death?</td>\n",
       "      <td>Is it true that there is life after death?</td>\n",
       "    </tr>\n",
       "    <tr>\n",
       "      <th>345034</th>\n",
       "      <td>What is one coin?</td>\n",
       "      <td>What's this coin?</td>\n",
       "    </tr>\n",
       "    <tr>\n",
       "      <th>345035</th>\n",
       "      <td>What is like to have sex with cousin?</td>\n",
       "      <td>What is it like to have sex with your cousin?</td>\n",
       "    </tr>\n",
       "  </tbody>\n",
       "</table>\n",
       "<p>345033 rows × 2 columns</p>\n",
       "</div>"
      ],
      "text/plain": [
       "                                                question1  \\\n",
       "0       What is the step by step guide to invest in sh...   \n",
       "1       What is the story of Kohinoor (Koh-i-Noor) Dia...   \n",
       "2       How can I increase the speed of my internet co...   \n",
       "3                                     Should I buy tiago?   \n",
       "4                          How can I be a good geologist?   \n",
       "...                                                   ...   \n",
       "345031         What does Jainism say about homosexuality?   \n",
       "345032  How many keywords are there in the Racket prog...   \n",
       "345033          Do you believe there is life after death?   \n",
       "345034                                  What is one coin?   \n",
       "345035              What is like to have sex with cousin?   \n",
       "\n",
       "                                                question2  \n",
       "0       What is the step by step guide to invest in sh...  \n",
       "1       What would happen if the Indian government sto...  \n",
       "2       How can Internet speed be increased by hacking...  \n",
       "3       What keeps childern active and far from phone ...  \n",
       "4               What should I do to be a great geologist?  \n",
       "...                                                   ...  \n",
       "345031  What does Jainism say about Gays and Homosexua...  \n",
       "345032  How many keywords are there in PERL Programmin...  \n",
       "345033         Is it true that there is life after death?  \n",
       "345034                                  What's this coin?  \n",
       "345035      What is it like to have sex with your cousin?  \n",
       "\n",
       "[345033 rows x 2 columns]"
      ]
     },
     "execution_count": 9,
     "metadata": {},
     "output_type": "execute_result"
    }
   ],
   "source": [
    "new_data=data[[\"question1\",\"question2\"]]\n",
    "new_data"
   ]
  },
  {
   "cell_type": "code",
   "execution_count": 10,
   "id": "ff03f0b5",
   "metadata": {
    "execution": {
     "iopub.execute_input": "2025-08-28T09:22:13.145264Z",
     "iopub.status.busy": "2025-08-28T09:22:13.145047Z",
     "iopub.status.idle": "2025-08-28T09:22:13.201412Z",
     "shell.execute_reply": "2025-08-28T09:22:13.200682Z"
    },
    "papermill": {
     "duration": 0.061997,
     "end_time": "2025-08-28T09:22:13.202540",
     "exception": false,
     "start_time": "2025-08-28T09:22:13.140543",
     "status": "completed"
    },
    "tags": []
   },
   "outputs": [
    {
     "data": {
      "text/plain": [
       "index           0\n",
       "id              0\n",
       "qid1            0\n",
       "qid2            0\n",
       "question1       0\n",
       "question2       0\n",
       "is_duplicate    0\n",
       "dtype: int64"
      ]
     },
     "execution_count": 10,
     "metadata": {},
     "output_type": "execute_result"
    }
   ],
   "source": [
    "data.isnull().sum()"
   ]
  },
  {
   "cell_type": "code",
   "execution_count": 11,
   "id": "cb757daa",
   "metadata": {
    "execution": {
     "iopub.execute_input": "2025-08-28T09:22:13.211256Z",
     "iopub.status.busy": "2025-08-28T09:22:13.211021Z",
     "iopub.status.idle": "2025-08-28T09:22:13.535005Z",
     "shell.execute_reply": "2025-08-28T09:22:13.534098Z"
    },
    "papermill": {
     "duration": 0.329695,
     "end_time": "2025-08-28T09:22:13.536263",
     "exception": false,
     "start_time": "2025-08-28T09:22:13.206568",
     "status": "completed"
    },
    "tags": []
   },
   "outputs": [
    {
     "name": "stdout",
     "output_type": "stream",
     "text": [
      "Number of unique questions 675521\n",
      "Number of questions getting repeated 10472\n"
     ]
    }
   ],
   "source": [
    "\n",
    "# Repeated questions\n",
    "\n",
    "qid = pd.Series(data['qid1'].tolist() + data['qid2'].tolist())\n",
    "print('Number of unique questions',np.unique(qid).shape[0])\n",
    "x = qid.value_counts()>1\n",
    "print('Number of questions getting repeated',x[x].shape[0])\n"
   ]
  },
  {
   "cell_type": "code",
   "execution_count": 12,
   "id": "2b42b6d3",
   "metadata": {
    "execution": {
     "iopub.execute_input": "2025-08-28T09:22:13.546018Z",
     "iopub.status.busy": "2025-08-28T09:22:13.545751Z",
     "iopub.status.idle": "2025-08-28T09:22:14.223958Z",
     "shell.execute_reply": "2025-08-28T09:22:14.223180Z"
    },
    "papermill": {
     "duration": 0.684268,
     "end_time": "2025-08-28T09:22:14.225153",
     "exception": false,
     "start_time": "2025-08-28T09:22:13.540885",
     "status": "completed"
    },
    "tags": []
   },
   "outputs": [
    {
     "data": {
      "image/png": "[encoded data removed]",
      "text/plain": [
       "<Figure size 640x480 with 1 Axes>"
      ]
     },
     "metadata": {},
     "output_type": "display_data"
    }
   ],
   "source": [
    "\n",
    "plt.hist(qid.value_counts().values,bins=160)\n",
    "plt.yscale('log')\n",
    "plt.show()\n"
   ]
  },
  {
   "cell_type": "code",
   "execution_count": 13,
   "id": "1d5597c9",
   "metadata": {
    "execution": {
     "iopub.execute_input": "2025-08-28T09:22:14.236815Z",
     "iopub.status.busy": "2025-08-28T09:22:14.236255Z",
     "iopub.status.idle": "2025-08-28T09:22:19.945995Z",
     "shell.execute_reply": "2025-08-28T09:22:19.945148Z"
    },
    "papermill": {
     "duration": 5.716059,
     "end_time": "2025-08-28T09:22:19.947273",
     "exception": false,
     "start_time": "2025-08-28T09:22:14.231214",
     "status": "completed"
    },
    "tags": []
   },
   "outputs": [
    {
     "name": "stdout",
     "output_type": "stream",
     "text": [
      "q1 shape: (345033, 3000)\n",
      "q2 shape: (345033, 3000)\n"
     ]
    }
   ],
   "source": [
    "from sklearn.feature_extraction.text import CountVectorizer\n",
    "questions = list(new_data['question1']) + list(new_data['question2'])\n",
    "\n",
    "# Initialize CountVectorizer\n",
    "cv = CountVectorizer(max_features=3000)\n",
    "\n",
    "# Fit and transform (sparse matrix)\n",
    "X = cv.fit_transform(questions)  # sparse CSR matrix\n",
    "\n",
    "# Number of original rows\n",
    "n = len(new_data)\n",
    "\n",
    "# Split into q1 and q2 (still sparse)\n",
    "q1_arr = X[:n]\n",
    "q2_arr = X[n:]\n",
    "\n",
    "# Check shapes\n",
    "print(\"q1 shape:\", q1_arr.shape)\n",
    "print(\"q2 shape:\", q2_arr.shape)\n"
   ]
  },
  {
   "cell_type": "code",
   "execution_count": 14,
   "id": "ef43c1b5",
   "metadata": {
    "execution": {
     "iopub.execute_input": "2025-08-28T09:22:19.957006Z",
     "iopub.status.busy": "2025-08-28T09:22:19.956765Z",
     "iopub.status.idle": "2025-08-28T09:22:20.039297Z",
     "shell.execute_reply": "2025-08-28T09:22:20.038479Z"
    },
    "papermill": {
     "duration": 0.088706,
     "end_time": "2025-08-28T09:22:20.040452",
     "exception": false,
     "start_time": "2025-08-28T09:22:19.951746",
     "status": "completed"
    },
    "tags": []
   },
   "outputs": [
    {
     "name": "stdout",
     "output_type": "stream",
     "text": [
      "Shape: (345033, 6000)\n"
     ]
    }
   ],
   "source": [
    "from scipy.sparse import hstack\n",
    "\n",
    "# Horizontally stack q1 and q2 (still sparse)\n",
    "temp_data = hstack([q1_arr, q2_arr])\n",
    "\n",
    "print(\"Shape:\", temp_data.shape)  # (700000, 6000)\n"
   ]
  },
  {
   "cell_type": "code",
   "execution_count": 15,
   "id": "d9136778",
   "metadata": {
    "execution": {
     "iopub.execute_input": "2025-08-28T09:22:20.049890Z",
     "iopub.status.busy": "2025-08-28T09:22:20.049616Z",
     "iopub.status.idle": "2025-08-28T09:22:20.053916Z",
     "shell.execute_reply": "2025-08-28T09:22:20.053388Z"
    },
    "papermill": {
     "duration": 0.010187,
     "end_time": "2025-08-28T09:22:20.055105",
     "exception": false,
     "start_time": "2025-08-28T09:22:20.044918",
     "status": "completed"
    },
    "tags": []
   },
   "outputs": [
    {
     "data": {
      "text/plain": [
       "(345033,)"
      ]
     },
     "execution_count": 15,
     "metadata": {},
     "output_type": "execute_result"
    }
   ],
   "source": [
    "y =data['is_duplicate'].values\n",
    "y.shape"
   ]
  },
  {
   "cell_type": "code",
   "execution_count": 16,
   "id": "2c836a5b",
   "metadata": {
    "execution": {
     "iopub.execute_input": "2025-08-28T09:22:20.064133Z",
     "iopub.status.busy": "2025-08-28T09:22:20.063931Z",
     "iopub.status.idle": "2025-08-28T09:22:20.067961Z",
     "shell.execute_reply": "2025-08-28T09:22:20.067269Z"
    },
    "papermill": {
     "duration": 0.0097,
     "end_time": "2025-08-28T09:22:20.069001",
     "exception": false,
     "start_time": "2025-08-28T09:22:20.059301",
     "status": "completed"
    },
    "tags": []
   },
   "outputs": [
    {
     "name": "stdout",
     "output_type": "stream",
     "text": [
      "Length of labels y: 345033\n",
      "Number of rows in q1_arr: 345033\n",
      "Number of rows in q2_arr: 345033\n",
      "Number of rows in stacked X: 690066\n"
     ]
    }
   ],
   "source": [
    "print(\"Length of labels y:\", len(data['is_duplicate']))\n",
    "print(\"Number of rows in q1_arr:\", q1_arr.shape[0])\n",
    "print(\"Number of rows in q2_arr:\", q2_arr.shape[0])\n",
    "print(\"Number of rows in stacked X:\", X.shape[0])\n"
   ]
  },
  {
   "cell_type": "code",
   "execution_count": 17,
   "id": "842ccdbd",
   "metadata": {
    "execution": {
     "iopub.execute_input": "2025-08-28T09:22:20.078604Z",
     "iopub.status.busy": "2025-08-28T09:22:20.077861Z",
     "iopub.status.idle": "2025-08-28T09:22:20.229764Z",
     "shell.execute_reply": "2025-08-28T09:22:20.229067Z"
    },
    "papermill": {
     "duration": 0.158062,
     "end_time": "2025-08-28T09:22:20.231193",
     "exception": false,
     "start_time": "2025-08-28T09:22:20.073131",
     "status": "completed"
    },
    "tags": []
   },
   "outputs": [],
   "source": [
    "X=temp_data\n",
    "\n",
    "X_train, X_test, y_train, y_test = train_test_split(\n",
    "    X, y, test_size=0.2, stratify=y, random_state=42\n",
    ")\n"
   ]
  },
  {
   "cell_type": "code",
   "execution_count": 18,
   "id": "f9746956",
   "metadata": {
    "execution": {
     "iopub.execute_input": "2025-08-28T09:22:20.241380Z",
     "iopub.status.busy": "2025-08-28T09:22:20.240796Z",
     "iopub.status.idle": "2025-08-28T09:50:14.445363Z",
     "shell.execute_reply": "2025-08-28T09:50:14.444675Z"
    },
    "papermill": {
     "duration": 1674.215192,
     "end_time": "2025-08-28T09:50:14.451181",
     "exception": false,
     "start_time": "2025-08-28T09:22:20.235989",
     "status": "completed"
    },
    "tags": []
   },
   "outputs": [
    {
     "data": {
      "text/plain": [
       "0.7981364209428029"
      ]
     },
     "execution_count": 18,
     "metadata": {},
     "output_type": "execute_result"
    }
   ],
   "source": [
    "\n",
    "from sklearn.ensemble import RandomForestClassifier\n",
    "from sklearn.metrics import accuracy_score\n",
    "rf = RandomForestClassifier()\n",
    "rf.fit(X_train,y_train)\n",
    "y_pred = rf.predict(X_test)\n",
    "accuracy_score(y_test,y_pred)\n",
    "\n"
   ]
  },
  {
   "cell_type": "code",
   "execution_count": 19,
   "id": "cd718e6f",
   "metadata": {
    "execution": {
     "iopub.execute_input": "2025-08-28T09:50:14.461296Z",
     "iopub.status.busy": "2025-08-28T09:50:14.461050Z",
     "iopub.status.idle": "2025-08-28T09:50:17.611004Z",
     "shell.execute_reply": "2025-08-28T09:50:17.610372Z"
    },
    "papermill": {
     "duration": 3.156837,
     "end_time": "2025-08-28T09:50:17.612590",
     "exception": false,
     "start_time": "2025-08-28T09:50:14.455753",
     "status": "completed"
    },
    "tags": []
   },
   "outputs": [
    {
     "data": {
      "text/plain": [
       "0.7302012839277174"
      ]
     },
     "execution_count": 19,
     "metadata": {},
     "output_type": "execute_result"
    }
   ],
   "source": [
    "from xgboost import XGBClassifier\n",
    "xgb = XGBClassifier()\n",
    "xgb.fit(X_train,y_train)\n",
    "y_pred = xgb.predict(X_test)\n",
    "accuracy_score(y_test,y_pred)\n",
    "\n"
   ]
  },
  {
   "cell_type": "code",
   "execution_count": null,
   "id": "0b4942f0",
   "metadata": {
    "papermill": {
     "duration": 0.004687,
     "end_time": "2025-08-28T09:50:17.623043",
     "exception": false,
     "start_time": "2025-08-28T09:50:17.618356",
     "status": "completed"
    },
    "tags": []
   },
   "outputs": [],
   "source": []
  }
 ],
 "metadata": {
  "kaggle": {
   "accelerator": "nvidiaTeslaT4",
   "dataSources": [
    {
     "datasetId": 4197394,
     "sourceId": 7245812,
     "sourceType": "datasetVersion"
    }
   ],
   "dockerImageVersionId": 31090,
   "isGpuEnabled": true,
   "isInternetEnabled": false,
   "language": "python",
   "sourceType": "notebook"
  },
  "kernelspec": {
   "display_name": "Python 3",
   "language": "python",
   "name": "python3"
  },
  "language_info": {
   "codemirror_mode": {
    "name": "ipython",
    "version": 3
   },
   "file_extension": ".py",
   "mimetype": "text/x-python",
   "name": "python",
   "nbconvert_exporter": "python",
   "pygments_lexer": "ipython3",
   "version": "3.11.13"
  },
  "papermill": {
   "default_parameters": {},
   "duration": 1695.001843,
   "end_time": "2025-08-28T09:50:18.448452",
   "environment_variables": {},
   "exception": null,
   "input_path": "__notebook__.ipynb",
   "output_path": "__notebook__.ipynb",
   "parameters": {},
   "start_time": "2025-08-28T09:22:03.446609",
   "version": "2.6.0"
  }
 },
 "nbformat": 4,
 "nbformat_minor": 5
}
